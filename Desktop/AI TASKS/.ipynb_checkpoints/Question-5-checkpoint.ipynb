{
 "cells": [
  {
   "cell_type": "markdown",
   "id": "b3723182",
   "metadata": {},
   "source": [
    "# Question-5 "
   ]
  },
  {
   "cell_type": "code",
   "execution_count": 10,
   "id": "5bca058b",
   "metadata": {},
   "outputs": [],
   "source": [
    "from matplotlib import pyplot as plt\n"
   ]
  },
  {
   "cell_type": "code",
   "execution_count": 11,
   "id": "6954a0a6",
   "metadata": {},
   "outputs": [
    {
     "data": {
      "image/png": "[encoded data removed]",
      "text/plain": [
       "<Figure size 432x288 with 1 Axes>"
      ]
     },
     "metadata": {
      "needs_background": "light"
     },
     "output_type": "display_data"
    }
   ],
   "source": [
    "x=[i for i in range(700,2401,10)]\n",
    "y=[(10*(i**2)+2*i) for i in x]\n",
    "plt.plot(x,y)\n",
    "plt.title(\"Question-5\")\n",
    "plt.xlabel(\"Size of houses in square feet\")\n",
    "plt.ylabel(\"Price of Houses\")\n",
    "plt.show()\n"
   ]
  },
  {
   "cell_type": "code",
   "execution_count": 12,
   "id": "ed9da52f",
   "metadata": {},
   "outputs": [],
   "source": [
    "import pandas as pd"
   ]
  },
  {
   "cell_type": "code",
   "execution_count": 13,
   "id": "1b6721bd",
   "metadata": {
    "scrolled": true
   },
   "outputs": [],
   "source": [
    "test=pd.DataFrame([x,y])\n",
    "test.to_csv('Question-5.csv',index=False)"
   ]
  },
  {
   "cell_type": "code",
   "execution_count": 14,
   "id": "18faacee",
   "metadata": {},
   "outputs": [
    {
     "data": {
      "text/html": [
       "<div>\n",
       "<style scoped>\n",
       "    .dataframe tbody tr th:only-of-type {\n",
       "        vertical-align: middle;\n",
       "    }\n",
       "\n",
       "    .dataframe tbody tr th {\n",
       "        vertical-align: top;\n",
       "    }\n",
       "\n",
       "    .dataframe thead th {\n",
       "        text-align: right;\n",
       "    }\n",
       "</style>\n",
       "<table border=\"1\" class=\"dataframe\">\n",
       "  <thead>\n",
       "    <tr style=\"text-align: right;\">\n",
       "      <th></th>\n",
       "      <th>0</th>\n",
       "      <th>1</th>\n",
       "      <th>2</th>\n",
       "      <th>3</th>\n",
       "      <th>4</th>\n",
       "      <th>5</th>\n",
       "      <th>6</th>\n",
       "      <th>7</th>\n",
       "      <th>8</th>\n",
       "      <th>9</th>\n",
       "      <th>...</th>\n",
       "      <th>161</th>\n",
       "      <th>162</th>\n",
       "      <th>163</th>\n",
       "      <th>164</th>\n",
       "      <th>165</th>\n",
       "      <th>166</th>\n",
       "      <th>167</th>\n",
       "      <th>168</th>\n",
       "      <th>169</th>\n",
       "      <th>170</th>\n",
       "    </tr>\n",
       "  </thead>\n",
       "  <tbody>\n",
       "    <tr>\n",
       "      <th>0</th>\n",
       "      <td>700</td>\n",
       "      <td>710</td>\n",
       "      <td>720</td>\n",
       "      <td>730</td>\n",
       "      <td>740</td>\n",
       "      <td>750</td>\n",
       "      <td>760</td>\n",
       "      <td>770</td>\n",
       "      <td>780</td>\n",
       "      <td>790</td>\n",
       "      <td>...</td>\n",
       "      <td>2310</td>\n",
       "      <td>2320</td>\n",
       "      <td>2330</td>\n",
       "      <td>2340</td>\n",
       "      <td>2350</td>\n",
       "      <td>2360</td>\n",
       "      <td>2370</td>\n",
       "      <td>2380</td>\n",
       "      <td>2390</td>\n",
       "      <td>2400</td>\n",
       "    </tr>\n",
       "    <tr>\n",
       "      <th>1</th>\n",
       "      <td>4901400</td>\n",
       "      <td>5042420</td>\n",
       "      <td>5185440</td>\n",
       "      <td>5330460</td>\n",
       "      <td>5477480</td>\n",
       "      <td>5626500</td>\n",
       "      <td>5777520</td>\n",
       "      <td>5930540</td>\n",
       "      <td>6085560</td>\n",
       "      <td>6242580</td>\n",
       "      <td>...</td>\n",
       "      <td>53365620</td>\n",
       "      <td>53828640</td>\n",
       "      <td>54293660</td>\n",
       "      <td>54760680</td>\n",
       "      <td>55229700</td>\n",
       "      <td>55700720</td>\n",
       "      <td>56173740</td>\n",
       "      <td>56648760</td>\n",
       "      <td>57125780</td>\n",
       "      <td>57604800</td>\n",
       "    </tr>\n",
       "  </tbody>\n",
       "</table>\n",
       "<p>2 rows × 171 columns</p>\n",
       "</div>"
      ],
      "text/plain": [
       "       0        1        2        3        4        5        6        7    \\\n",
       "0      700      710      720      730      740      750      760      770   \n",
       "1  4901400  5042420  5185440  5330460  5477480  5626500  5777520  5930540   \n",
       "\n",
       "       8        9    ...       161       162       163       164       165  \\\n",
       "0      780      790  ...      2310      2320      2330      2340      2350   \n",
       "1  6085560  6242580  ...  53365620  53828640  54293660  54760680  55229700   \n",
       "\n",
       "        166       167       168       169       170  \n",
       "0      2360      2370      2380      2390      2400  \n",
       "1  55700720  56173740  56648760  57125780  57604800  \n",
       "\n",
       "[2 rows x 171 columns]"
      ]
     },
     "execution_count": 14,
     "metadata": {},
     "output_type": "execute_result"
    }
   ],
   "source": [
    "test.head()"
   ]
  },
  {
   "cell_type": "code",
   "execution_count": null,
   "id": "f9304919",
   "metadata": {},
   "outputs": [],
   "source": []
  }
 ],
 "metadata": {
  "interpreter": {
   "hash": "e19c11ce693e276313725771c98188a18384c9a40f0256a2059bd6fb3025cd8d"
  },
  "kernelspec": {
   "display_name": "Python 3 (ipykernel)",
   "language": "python",
   "name": "python3"
  },
  "language_info": {
   "codemirror_mode": {
    "name": "ipython",
    "version": 3
   },
   "file_extension": ".py",
   "mimetype": "text/x-python",
   "name": "python",
   "nbconvert_exporter": "python",
   "pygments_lexer": "ipython3",
   "version": "3.9.7"
  }
 },
 "nbformat": 4,
 "nbformat_minor": 5
}
